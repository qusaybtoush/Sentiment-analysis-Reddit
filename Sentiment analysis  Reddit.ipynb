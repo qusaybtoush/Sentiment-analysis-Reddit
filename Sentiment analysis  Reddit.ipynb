{
 "cells": [
  {
   "cell_type": "markdown",
   "id": "persistent-catholic",
   "metadata": {},
   "source": [
    "# Sentiment analysis / Reddit"
   ]
  },
  {
   "cell_type": "markdown",
   "id": "english-decimal",
   "metadata": {},
   "source": [
    "### Extract posts from Reddit and I did sentiment analysis\n",
    "### How the people looking to Israel "
   ]
  },
  {
   "cell_type": "code",
   "execution_count": null,
   "id": "painted-authentication",
   "metadata": {},
   "outputs": [],
   "source": [
    "#import libraries\n",
    "\n",
    "import warnings\n",
    "warnings.filterwarnings('ignore')\n",
    "import requests\n",
    "import pandas as pd\n",
    "from datetime import datetime\n",
    "import json"
   ]
  },
  {
   "cell_type": "code",
   "execution_count": null,
   "id": "accomplished-alberta",
   "metadata": {},
   "outputs": [],
   "source": [
    "# from Reddit put your details\n",
    "\n",
    "client_id = \"exQVPat6p_VJLp_YEYkx8A\"\n",
    "secret_key =\"DUt6IpSWJ8otDXxLZUBju4W6N2UboA\""
   ]
  },
  {
   "cell_type": "code",
   "execution_count": null,
   "id": "underlying-clothing",
   "metadata": {},
   "outputs": [],
   "source": [
    "#requests to APT Reddit\n",
    "res = requests.post(\"https://www.reddit.com/api/v1/access_token\", auth= auth, data= data, headers= headers)"
   ]
  },
  {
   "cell_type": "code",
   "execution_count": null,
   "id": "incident-census",
   "metadata": {},
   "outputs": [],
   "source": [
    "# create access token\n",
    "TOKEN = res.json()[\"access_token\"]"
   ]
  },
  {
   "cell_type": "code",
   "execution_count": null,
   "id": "fundamental-cattle",
   "metadata": {},
   "outputs": [],
   "source": [
    "data = {\n",
    "    \"grant_type\" : \"password\",\n",
    "    \"username\" : \"****\", #here put user name / Reddit Account\n",
    "    \"password\" : \"****\"  #here put your password / Reddit Account\n",
    "}"
   ]
  },
  {
   "cell_type": "code",
   "execution_count": null,
   "id": "another-detection",
   "metadata": {},
   "outputs": [],
   "source": [
    "headers= { 'user_agent': 'MyAPI/0.0.1'}"
   ]
  },
  {
   "cell_type": "code",
   "execution_count": null,
   "id": "rotary-vulnerability",
   "metadata": {},
   "outputs": [],
   "source": [
    "\n",
    "# Your previous code to get the access token\n",
    "# ...\n",
    "\n",
    "# Specify the number of posts you want to retrieve per page (e.g., 100)\n",
    "limit = 1000000   #\n",
    "total_posts_to_retrieve = 1000000   #number of post\n",
    "posts_per_request = 100\n",
    "\n",
    "# Make requests to the Reddit API endpoint for hot posts in the \"any words\" subreddit with pagination\n",
    "post_details = []\n",
    "after = None\n",
    "\n",
    "while len(post_details) < total_posts_to_retrieve:\n",
    "    api_url = f'https://oauth.reddit.com/r/Israel/new.json?limit={limit}&after={after}' # your can replase any word /change Israel and you need hot or new you can change \n",
    "    headers = {'Authorization': f'Bearer {TOKEN}', 'User-Agent': 'MyAPI/0.0.1'}\n",
    "    response = requests.get(api_url, headers=headers)\n",
    "\n",
    "    # Check if the response status code is OK (200)\n",
    "    if response.status_code == 200:\n",
    "        try:\n",
    "            # Parse the JSON response\n",
    "            data = response.json()\n",
    "\n",
    "            # Extract post details\n",
    "            for post in data['data']['children']:\n",
    "                title = post['data']['title']\n",
    "                author = post['data']['author']\n",
    "                created_utc = post['data']['created_utc']  # This is the timestamp of the post creation in UTC\n",
    "\n",
    "                # Convert timestamp to a human-readable date and time\n",
    "                created_datetime = datetime.utcfromtimestamp(created_utc).strftime('%Y-%m-%d')\n",
    "\n",
    "                # Append post details to the list\n",
    "                post_details.append({'Created': created_datetime, 'Title': title})\n",
    "\n",
    "            # Get the ID of the last post in the current page for pagination\n",
    "            after = data['data']['after']\n",
    "\n",
    "        except Exception as e:\n",
    "            print(\"Error processing JSON response:\", str(e))\n",
    "            break  # Break the loop if an error occurs\n",
    "    else:\n",
    "        print(\"Request failed with status code:\", response.status_code)\n",
    "        print(\"Response content:\", response.content)\n",
    "        break  # Break the loop if the request fails\n",
    "\n",
    "# Create a DataFrame from the list of post details\n",
    "df = pd.DataFrame(post_details)\n"
   ]
  },
  {
   "cell_type": "code",
   "execution_count": null,
   "id": "pretty-microphone",
   "metadata": {},
   "outputs": [],
   "source": [
    "from transformers import AutoTokenizer, AutoModelForSequenceClassification #model for Sentiment Analysis\n",
    "from scipy.special import softmax"
   ]
  },
  {
   "cell_type": "code",
   "execution_count": null,
   "id": "selected-variety",
   "metadata": {},
   "outputs": [],
   "source": [
    "# model Roberta for sentiment analysis\n",
    "\n",
    "roberta = \"cardiffnlp/twitter-roberta-base-sentiment\"\n",
    "\n",
    "model = AutoModelForSequenceClassification.from_pretrained(roberta)\n",
    "tokenizer = AutoTokenizer.from_pretrained(roberta)\n",
    "\n",
    "labels = ['Negative', 'Neutral', 'Positive']"
   ]
  },
  {
   "cell_type": "code",
   "execution_count": null,
   "id": "norwegian-letters",
   "metadata": {},
   "outputs": [],
   "source": [
    "new= []\n",
    "\n",
    "for i in df[\"Title\"]:\n",
    "    encoded_tweet = tokenizer(i, return_tensors='pt')\n",
    "    output = model(**encoded_tweet)\n",
    "\n",
    "    scores = output.logits[0].detach().numpy()\n",
    "    probabilities = softmax(scores)\n",
    "\n",
    "    max_index = probabilities.argmax()\n",
    "\n",
    "    highest_sentiment = labels[max_index]\n",
    "    highest_probability = probabilities[max_index]\n",
    "    new.append(highest_sentiment)"
   ]
  },
  {
   "cell_type": "code",
   "execution_count": null,
   "id": "psychological-distribution",
   "metadata": {},
   "outputs": [],
   "source": [
    "df[\"Sentiment Col\"]= pd.Series(new)"
   ]
  },
  {
   "cell_type": "code",
   "execution_count": null,
   "id": "agricultural-bridges",
   "metadata": {},
   "outputs": [],
   "source": [
    "df.head()"
   ]
  },
  {
   "cell_type": "code",
   "execution_count": null,
   "id": "stable-affiliate",
   "metadata": {},
   "outputs": [],
   "source": [
    "import matplotlib.pyplot as plt\n",
    "plt.style.use('ggplot')\n",
    "df.info()\n",
    "\n",
    "plt.figure(figsize = [7, 7])\n",
    "df[\"Sentiment Col\"].value_counts().plot.pie(  autopct='%1.1f%%', shadow=True, startangle=90);\n",
    "plt.title(\"Social Media Spotlight | Audience how looking to  Israel \")\n",
    "plt.show()"
   ]
  }
 ],
 "metadata": {
  "kernelspec": {
   "display_name": "Python 3",
   "language": "python",
   "name": "python3"
  },
  "language_info": {
   "codemirror_mode": {
    "name": "ipython",
    "version": 3
   },
   "file_extension": ".py",
   "mimetype": "text/x-python",
   "name": "python",
   "nbconvert_exporter": "python",
   "pygments_lexer": "ipython3",
   "version": "3.8.5"
  }
 },
 "nbformat": 4,
 "nbformat_minor": 5
}
